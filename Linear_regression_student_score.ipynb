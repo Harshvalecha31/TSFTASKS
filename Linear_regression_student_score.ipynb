{
 "cells": [
  {
   "cell_type": "markdown",
   "id": "c513cf5d",
   "metadata": {},
   "source": [
    "# Linear Regression task to determine student's percentage"
   ]
  },
  {
   "cell_type": "markdown",
   "id": "e6c9b233",
   "metadata": {},
   "source": [
    "## About the model"
   ]
  },
  {
   "cell_type": "markdown",
   "id": "7bda2010",
   "metadata": {},
   "source": [
    "Linear regression strives to show the relationship between two variables by applying a linear equation to observed data. One variable is supposed to be an independent variable, and the other is to be a dependent variable. For example, the weight of the person is linearly related to his height. Hence this shows a linear relationship between the height and weight of the person. As the height is increased, the weight of the person also gets increased."
   ]
  },
  {
   "cell_type": "markdown",
   "id": "b2eec319",
   "metadata": {},
   "source": [
    "### Equation about model"
   ]
  },
  {
   "cell_type": "markdown",
   "id": "b4275ab6",
   "metadata": {},
   "source": [
    "A linear regression line equation is written in the form of:\n",
    "\n",
    "Y = a + bX\n",
    "\n",
    "where X is the independent variable and plotted along the x-axis\n",
    "\n",
    "Y is the dependent variable and plotted along the y-axis\n",
    "\n",
    "The slope of the line is b, and a is the intercept (the value of y when x = 0).\n",
    "\n",
    "** Here a is a constant and b is referred to as regression coefficient **"
   ]
  },
  {
   "cell_type": "markdown",
   "id": "868ba5fc",
   "metadata": {},
   "source": [
    "### Including libraries required"
   ]
  },
  {
   "cell_type": "code",
   "execution_count": 1,
   "id": "5ae12d87",
   "metadata": {},
   "outputs": [],
   "source": [
    "import pandas as pd\n",
    "import numpy as np\n",
    "import matplotlib.pyplot as plt\n",
    "%matplotlib inline "
   ]
  },
  {
   "cell_type": "markdown",
   "id": "4b2d650b",
   "metadata": {},
   "source": [
    "### All about our dataset"
   ]
  },
  {
   "cell_type": "code",
   "execution_count": 2,
   "id": "31c7bcae",
   "metadata": {},
   "outputs": [
    {
     "data": {
      "text/html": [
       "<div>\n",
       "<style scoped>\n",
       "    .dataframe tbody tr th:only-of-type {\n",
       "        vertical-align: middle;\n",
       "    }\n",
       "\n",
       "    .dataframe tbody tr th {\n",
       "        vertical-align: top;\n",
       "    }\n",
       "\n",
       "    .dataframe thead th {\n",
       "        text-align: right;\n",
       "    }\n",
       "</style>\n",
       "<table border=\"1\" class=\"dataframe\">\n",
       "  <thead>\n",
       "    <tr style=\"text-align: right;\">\n",
       "      <th></th>\n",
       "      <th>Hours</th>\n",
       "      <th>Scores</th>\n",
       "    </tr>\n",
       "  </thead>\n",
       "  <tbody>\n",
       "    <tr>\n",
       "      <th>0</th>\n",
       "      <td>2.5</td>\n",
       "      <td>21</td>\n",
       "    </tr>\n",
       "    <tr>\n",
       "      <th>1</th>\n",
       "      <td>5.1</td>\n",
       "      <td>47</td>\n",
       "    </tr>\n",
       "    <tr>\n",
       "      <th>2</th>\n",
       "      <td>3.2</td>\n",
       "      <td>27</td>\n",
       "    </tr>\n",
       "    <tr>\n",
       "      <th>3</th>\n",
       "      <td>8.5</td>\n",
       "      <td>75</td>\n",
       "    </tr>\n",
       "    <tr>\n",
       "      <th>4</th>\n",
       "      <td>3.5</td>\n",
       "      <td>30</td>\n",
       "    </tr>\n",
       "  </tbody>\n",
       "</table>\n",
       "</div>"
      ],
      "text/plain": [
       "   Hours  Scores\n",
       "0    2.5      21\n",
       "1    5.1      47\n",
       "2    3.2      27\n",
       "3    8.5      75\n",
       "4    3.5      30"
      ]
     },
     "execution_count": 2,
     "metadata": {},
     "output_type": "execute_result"
    }
   ],
   "source": [
    "data = pd.read_csv(\"student_scores.csv\")\n",
    "data.head(5) # prints the first 5 rows"
   ]
  },
  {
   "cell_type": "markdown",
   "id": "2df5d7b1",
   "metadata": {},
   "source": [
    "In our dataset there are 2 variables (i.e. Hours and Scores) ,here Hours is independent variable and Scores is the dependent variable (Scores is the variable to be predicted)."
   ]
  },
  {
   "cell_type": "markdown",
   "id": "757dcf30",
   "metadata": {},
   "source": [
    "#### 2D graph Representation of the data"
   ]
  },
  {
   "cell_type": "code",
   "execution_count": 3,
   "id": "e16cf701",
   "metadata": {},
   "outputs": [
    {
     "data": {
      "image/png": "[encoded data removed]",
      "text/plain": [
       "<Figure size 432x288 with 1 Axes>"
      ]
     },
     "metadata": {
      "needs_background": "light"
     },
     "output_type": "display_data"
    }
   ],
   "source": [
    "data.plot(x = 'Hours',y = 'Scores',style = 'o')\n",
    "plt.title('Hours vs Percentage')  \n",
    "plt.xlabel('Hours Studied')  \n",
    "plt.ylabel('Percentage Score')  \n",
    "plt.show()"
   ]
  },
  {
   "cell_type": "markdown",
   "id": "03cc1853",
   "metadata": {},
   "source": [
    "## Model Preparations"
   ]
  },
  {
   "cell_type": "markdown",
   "id": "5e7aaf80",
   "metadata": {},
   "source": [
    "Step 1 : Getting the formatted data to train/test our model"
   ]
  },
  {
   "cell_type": "code",
   "execution_count": 4,
   "id": "1fc9be83",
   "metadata": {},
   "outputs": [
    {
     "data": {
      "text/plain": [
       "(array([[2.5],\n",
       "        [5.1],\n",
       "        [3.2],\n",
       "        [8.5],\n",
       "        [3.5],\n",
       "        [1.5],\n",
       "        [9.2],\n",
       "        [5.5],\n",
       "        [8.3],\n",
       "        [2.7],\n",
       "        [7.7],\n",
       "        [5.9],\n",
       "        [4.5],\n",
       "        [3.3],\n",
       "        [1.1],\n",
       "        [8.9],\n",
       "        [2.5],\n",
       "        [1.9],\n",
       "        [6.1],\n",
       "        [7.4],\n",
       "        [2.7],\n",
       "        [4.8],\n",
       "        [3.8],\n",
       "        [6.9],\n",
       "        [7.8]]),\n",
       " array([21, 47, 27, 75, 30, 20, 88, 60, 81, 25, 85, 62, 41, 42, 17, 95, 30,\n",
       "        24, 67, 69, 30, 54, 35, 76, 86], dtype=int64))"
      ]
     },
     "execution_count": 4,
     "metadata": {},
     "output_type": "execute_result"
    }
   ],
   "source": [
    "x = data.iloc[:,:-1].values\n",
    "y = data.iloc[:,1].values\n",
    "x,y # Here x is hours and y is the scores for corresponding hours"
   ]
  },
  {
   "cell_type": "markdown",
   "id": "d5cda7dd",
   "metadata": {},
   "source": [
    "Step 2 : Dividing the data into parts for training and prediction of models"
   ]
  },
  {
   "cell_type": "code",
   "execution_count": 5,
   "id": "928d3f88",
   "metadata": {},
   "outputs": [
    {
     "data": {
      "text/plain": [
       "(17, 8)"
      ]
     },
     "execution_count": 5,
     "metadata": {},
     "output_type": "execute_result"
    }
   ],
   "source": [
    "from sklearn.model_selection import train_test_split\n",
    "# spliting the data into 70:30 70% training 30% test\n",
    "x_train,x_test,y_train,y_test = train_test_split(x,y,test_size = 0.3,random_state = 0)\n",
    "len(x_train),len(x_test)"
   ]
  },
  {
   "cell_type": "markdown",
   "id": "d24ad0a1",
   "metadata": {},
   "source": [
    "## Training the model"
   ]
  },
  {
   "cell_type": "code",
   "execution_count": 6,
   "id": "9b82320c",
   "metadata": {},
   "outputs": [
    {
     "name": "stdout",
     "output_type": "stream",
     "text": [
      "Model trained!!\n"
     ]
    }
   ],
   "source": [
    "from sklearn.linear_model import LinearRegression\n",
    "regres = LinearRegression()\n",
    "regres.fit(x_train,y_train)\n",
    "print('Model trained!!')"
   ]
  },
  {
   "cell_type": "markdown",
   "id": "70042fa0",
   "metadata": {},
   "source": [
    "Getting info about our model object"
   ]
  },
  {
   "cell_type": "code",
   "execution_count": 7,
   "id": "02acf61b",
   "metadata": {},
   "outputs": [
    {
     "data": {
      "text/plain": [
       "['coef_',\n",
       " 'copy_X',\n",
       " 'fit',\n",
       " 'fit_intercept',\n",
       " 'get_params',\n",
       " 'intercept_',\n",
       " 'n_features_in_',\n",
       " 'n_jobs',\n",
       " 'normalize',\n",
       " 'positive',\n",
       " 'predict',\n",
       " 'rank_',\n",
       " 'score',\n",
       " 'set_params',\n",
       " 'singular_']"
      ]
     },
     "execution_count": 7,
     "metadata": {},
     "output_type": "execute_result"
    }
   ],
   "source": [
    "dir(regres)[-15:]"
   ]
  },
  {
   "cell_type": "markdown",
   "id": "63539994",
   "metadata": {},
   "source": [
    "Important parameters of our linearRegression model objects are :-\n",
    "- coef_ = regression coefficient\n",
    "- intercept_ = regression constant\n",
    "- predict = method to predict output on the basis of test data"
   ]
  },
  {
   "cell_type": "code",
   "execution_count": 8,
   "id": "0eb78434",
   "metadata": {},
   "outputs": [
    {
     "data": {
      "image/png": "[encoded data removed]",
      "text/plain": [
       "<Figure size 432x288 with 1 Axes>"
      ]
     },
     "metadata": {
      "needs_background": "light"
     },
     "output_type": "display_data"
    }
   ],
   "source": [
    "# Plotting the Points and our regression line\n",
    "'Line Equation - y = mx+c'\n",
    "line = regres.coef_*x+regres.intercept_\n",
    "plt.plot(x,line)\n",
    "plt.scatter(x,y)\n",
    "plt.show()"
   ]
  },
  {
   "cell_type": "markdown",
   "id": "c92e22d7",
   "metadata": {},
   "source": [
    "## Making Predictions"
   ]
  },
  {
   "cell_type": "code",
   "execution_count": 9,
   "id": "719d3fa4",
   "metadata": {},
   "outputs": [
    {
     "data": {
      "text/plain": [
       "array([17.05366541, 33.69422878, 74.80620886, 26.8422321 , 60.12335883,\n",
       "       39.56736879, 20.96909209, 78.72163554])"
      ]
     },
     "execution_count": 9,
     "metadata": {},
     "output_type": "execute_result"
    }
   ],
   "source": [
    "y_pred = regres.predict(x_test)\n",
    "y_pred"
   ]
  },
  {
   "cell_type": "code",
   "execution_count": 10,
   "id": "6bd85713",
   "metadata": {},
   "outputs": [
    {
     "data": {
      "text/html": [
       "<div>\n",
       "<style scoped>\n",
       "    .dataframe tbody tr th:only-of-type {\n",
       "        vertical-align: middle;\n",
       "    }\n",
       "\n",
       "    .dataframe tbody tr th {\n",
       "        vertical-align: top;\n",
       "    }\n",
       "\n",
       "    .dataframe thead th {\n",
       "        text-align: right;\n",
       "    }\n",
       "</style>\n",
       "<table border=\"1\" class=\"dataframe\">\n",
       "  <thead>\n",
       "    <tr style=\"text-align: right;\">\n",
       "      <th></th>\n",
       "      <th>Actual</th>\n",
       "      <th>Predicted</th>\n",
       "      <th>Error</th>\n",
       "    </tr>\n",
       "  </thead>\n",
       "  <tbody>\n",
       "    <tr>\n",
       "      <th>0</th>\n",
       "      <td>20</td>\n",
       "      <td>17.053665</td>\n",
       "      <td>2.946335</td>\n",
       "    </tr>\n",
       "    <tr>\n",
       "      <th>1</th>\n",
       "      <td>27</td>\n",
       "      <td>33.694229</td>\n",
       "      <td>-6.694229</td>\n",
       "    </tr>\n",
       "    <tr>\n",
       "      <th>2</th>\n",
       "      <td>69</td>\n",
       "      <td>74.806209</td>\n",
       "      <td>-5.806209</td>\n",
       "    </tr>\n",
       "    <tr>\n",
       "      <th>3</th>\n",
       "      <td>30</td>\n",
       "      <td>26.842232</td>\n",
       "      <td>3.157768</td>\n",
       "    </tr>\n",
       "    <tr>\n",
       "      <th>4</th>\n",
       "      <td>62</td>\n",
       "      <td>60.123359</td>\n",
       "      <td>1.876641</td>\n",
       "    </tr>\n",
       "    <tr>\n",
       "      <th>5</th>\n",
       "      <td>35</td>\n",
       "      <td>39.567369</td>\n",
       "      <td>-4.567369</td>\n",
       "    </tr>\n",
       "    <tr>\n",
       "      <th>6</th>\n",
       "      <td>24</td>\n",
       "      <td>20.969092</td>\n",
       "      <td>3.030908</td>\n",
       "    </tr>\n",
       "    <tr>\n",
       "      <th>7</th>\n",
       "      <td>86</td>\n",
       "      <td>78.721636</td>\n",
       "      <td>7.278364</td>\n",
       "    </tr>\n",
       "  </tbody>\n",
       "</table>\n",
       "</div>"
      ],
      "text/plain": [
       "   Actual  Predicted     Error\n",
       "0      20  17.053665  2.946335\n",
       "1      27  33.694229 -6.694229\n",
       "2      69  74.806209 -5.806209\n",
       "3      30  26.842232  3.157768\n",
       "4      62  60.123359  1.876641\n",
       "5      35  39.567369 -4.567369\n",
       "6      24  20.969092  3.030908\n",
       "7      86  78.721636  7.278364"
      ]
     },
     "execution_count": 10,
     "metadata": {},
     "output_type": "execute_result"
    }
   ],
   "source": [
    "# Comparison of Actual and Predicted data\n",
    "df = pd.DataFrame({'Actual':y_test,'Predicted':y_pred,'Error':y_test-y_pred})\n",
    "df"
   ]
  },
  {
   "cell_type": "code",
   "execution_count": 11,
   "id": "b78b7bd0",
   "metadata": {},
   "outputs": [
    {
     "data": {
      "image/png": "[encoded data removed]",
      "text/plain": [
       "<Figure size 432x288 with 1 Axes>"
      ]
     },
     "metadata": {
      "needs_background": "light"
     },
     "output_type": "display_data"
    }
   ],
   "source": [
    "# viewing the actual and predicted points\n",
    "plt.scatter(x_test,y_test)\n",
    "plt.scatter(x_test,y_pred)\n",
    "plt.show()"
   ]
  },
  {
   "cell_type": "code",
   "execution_count": 12,
   "id": "61a9ea76",
   "metadata": {},
   "outputs": [
    {
     "name": "stdout",
     "output_type": "stream",
     "text": [
      "Score obtained by the student: 92.91505723477056\n"
     ]
    }
   ],
   "source": [
    "# predicted score if a student studies 9.25 hrs/day\n",
    "hrs = [[9.25]]\n",
    "pred = regres.predict(hrs)\n",
    "print('Score obtained by the student:',pred[0])"
   ]
  },
  {
   "cell_type": "markdown",
   "id": "27b9e7f6",
   "metadata": {},
   "source": [
    "## Evaluating the model"
   ]
  },
  {
   "cell_type": "markdown",
   "id": "740098b5",
   "metadata": {},
   "source": [
    "For evaluating regression models sklearn module have many metrics to evaluate the model. we are gonna try following metrics to understand about our model better :-\n",
    "\n",
    "- mean absolute error\n",
    "- mean squared error\n",
    "- root mean squared error\n",
    "- r2 score"
   ]
  },
  {
   "cell_type": "code",
   "execution_count": 13,
   "id": "6c6df41d",
   "metadata": {},
   "outputs": [
    {
     "data": {
      "text/plain": [
       "4.419727808027652"
      ]
     },
     "execution_count": 13,
     "metadata": {},
     "output_type": "execute_result"
    }
   ],
   "source": [
    "# mean absolute error\n",
    "from sklearn.metrics import mean_absolute_error\n",
    "mean_absolute_error(y_test,y_pred)"
   ]
  },
  {
   "cell_type": "code",
   "execution_count": 14,
   "id": "ecc1524c",
   "metadata": {},
   "outputs": [
    {
     "data": {
      "text/plain": [
       "22.96509721270043"
      ]
     },
     "execution_count": 14,
     "metadata": {},
     "output_type": "execute_result"
    }
   ],
   "source": [
    "# mean squared error\n",
    "from sklearn.metrics import mean_squared_error\n",
    "mean_squared_error(y_test,y_pred,squared = True)"
   ]
  },
  {
   "cell_type": "code",
   "execution_count": 15,
   "id": "af33f61f",
   "metadata": {},
   "outputs": [
    {
     "data": {
      "text/plain": [
       "4.792191274636315"
      ]
     },
     "execution_count": 15,
     "metadata": {},
     "output_type": "execute_result"
    }
   ],
   "source": [
    "# root mean squared error\n",
    "from sklearn.metrics import mean_squared_error\n",
    "mean_squared_error(y_test,y_pred,squared = False)"
   ]
  },
  {
   "cell_type": "code",
   "execution_count": 16,
   "id": "65babcdb",
   "metadata": {},
   "outputs": [
    {
     "data": {
      "text/plain": [
       "0.9568211104435257"
      ]
     },
     "execution_count": 16,
     "metadata": {},
     "output_type": "execute_result"
    }
   ],
   "source": [
    "# r2 score\n",
    "from sklearn.metrics import r2_score\n",
    "r2_score(y_test,y_pred)\n",
    "# best possible value- 1.0 and worst possible value-0.0"
   ]
  },
  {
   "cell_type": "code",
   "execution_count": null,
   "id": "f2670e4d",
   "metadata": {},
   "outputs": [],
   "source": []
  }
 ],
 "metadata": {
  "kernelspec": {
   "display_name": "Python 3",
   "language": "python",
   "name": "python3"
  },
  "language_info": {
   "codemirror_mode": {
    "name": "ipython",
    "version": 3
   },
   "file_extension": ".py",
   "mimetype": "text/x-python",
   "name": "python",
   "nbconvert_exporter": "python",
   "pygments_lexer": "ipython3",
   "version": "3.9.0"
  }
 },
 "nbformat": 4,
 "nbformat_minor": 5
}
